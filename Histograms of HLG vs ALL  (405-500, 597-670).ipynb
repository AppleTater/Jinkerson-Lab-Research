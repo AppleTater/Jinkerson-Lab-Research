{
 "cells": [
  {
   "cell_type": "markdown",
   "metadata": {},
   "source": [
    "# HLG vs ALL  (405-500, 597-670)\n"
   ]
  },
  {
   "cell_type": "markdown",
   "metadata": {},
   "source": [
    "### Every row which has \"NaN\" means that the ratio of HLG / ALL is not < 0, for depleted for all of the mutants"
   ]
  },
  {
   "cell_type": "code",
   "execution_count": 1,
   "metadata": {},
   "outputs": [],
   "source": [
    "import pandas as pd\n",
    "import matplotlib.pyplot as plt\n",
    "import numpy as np\n",
    "import re\n",
    "\n",
    "data = pd.read_csv('TAG Data.csv')"
   ]
  },
  {
   "cell_type": "code",
   "execution_count": 2,
   "metadata": {},
   "outputs": [
    {
     "name": "stdout",
     "output_type": "stream",
     "text": [
      "                            IB                           gene  \\\n",
      "0       TCGTCGGACAAGCAGTCGGAGC                  Cre10.g459900   \n",
      "1       GTAAGCGAATGAGTCCAGGCGC                  Cre03.g144787   \n",
      "2       TTGAGCGACCTGTGTGGAGAGT                  unknown_chrom   \n",
      "3       TCCCGGTAAGAGTTGCTTTCGG                  Cre13.g567600   \n",
      "4       AGGCTGATGCCGCGAAAACCCT                  Cre12.g509100   \n",
      "5       AAAGACGGGGCCGATCGTGAAA                  Cre07.g357200   \n",
      "6       GGGCACGCATGTTTGTCGGCAA                  Cre05.g231000   \n",
      "7       CGCTAGCTCTCGGAAACAGGGA                  Cre12.g501150   \n",
      "8       TCGTCACGTGTTTGTGATAAGG                  Cre12.g499451   \n",
      "9       GGTAGTGACCTAGACTCGGAGG                  Cre14.g630750   \n",
      "10      AAGCGTTTCACTTGATGGCAGG                   gene_unknown   \n",
      "11      AGCCAATAGGAGGCTCGAGTAG                  Cre03.g207550   \n",
      "12      TGATTATAAAATACAACAGGTC                  Cre03.g161150   \n",
      "13      GCTTTACTGACGAACTCTAGCA                  Cre05.g239850   \n",
      "14      TTTAGTTTTCATGTCTAATACG                  unknown_chrom   \n",
      "15      GAAATTGTAGTCCCCTTTGGGC                  Cre09.g391541   \n",
      "16      CCCTACATCTGCCGGGTAGTAA                  Cre06.g295200   \n",
      "17      TCGGCGTCCGCCCATTTCGGCT                  Cre13.g603400   \n",
      "18      TCCCCTGAGCGGGAGGGCCCGA                  Cre17.g713674   \n",
      "19      ACGTAGTCAAGGCAGCGGTGGA                  Cre17.g720600   \n",
      "20      GGCCCTCTGTTACCAGTTTCGC                  Cre16.g683953   \n",
      "21       CTTTTCAGAGTGGTTTTTCCA                  Cre14.g633400   \n",
      "22      GAGCAGGCAAGAACACGCAGCA  Cre09.g396650 & Cre09.g396600   \n",
      "23      GGGTGCAGACATCCGTTCCGAC                  Cre17.g741150   \n",
      "24      GCGATTCAGGGGCGTGGAGCGA                  Cre02.g083400   \n",
      "25      CGGGCTCAAACGGATGTGACCC                  unknown_chrom   \n",
      "26      ACCTTGGTGCGTGCTTGTAAGC                  Cre07.g336300   \n",
      "27      TGGTTAGGCGCTGCCTTGCGAT                  Cre04.g214200   \n",
      "28      GAATGGGGCATGAGCGGAGTTC                  Cre02.g111500   \n",
      "29      GTGTGAGGTCGGGCACTTGCGG                  unknown_chrom   \n",
      "...                        ...                            ...   \n",
      "172742  CACGGTTATCGGCAAGTTTTTC  Cre09.g415400 & Cre09.g415450   \n",
      "172743  GTTGTGTGGCCGTGAACTAGTC                  Cre04.g224800   \n",
      "172744  CAGGAATCATACGTTGAAGCAA  Cre10.g434250 & Cre10.g434300   \n",
      "172745  GTGTTTTCATGCGCTTTCGCGG  Cre09.g403108 & Cre09.g403145   \n",
      "172746   ACGCCGTCTATGGGTGACTGG                  unknown_chrom   \n",
      "172747  GAGCCACCCAGGATAGAAGAAA                  Cre13.g588650   \n",
      "172748  GCCTTTAGGAACAGCGCTTGTG                  Cre02.g094700   \n",
      "172749   CTCTACGCATCAGCCAGGCGC                  Cre06.g275950   \n",
      "172750  CACGTTGACGGGGCTAGTCGCC                   gene_unknown   \n",
      "172751  CAGTGACACGGTAGTGGCAGTC                  unknown_chrom   \n",
      "172752  TTCCGCCGTTATGTTTGATGAT                  Cre08.g372100   \n",
      "172753  AATCTCGTCTTGCTCTCACTCC  Cre02.g104201 & Cre02.g104250   \n",
      "172754  CGAGACGGCCAAGGGGAAATCA                  unknown_chrom   \n",
      "172755  GACGAGGGTGGCCGAGCACGAA                  Cre06.g293100   \n",
      "172756  GTCGTTGGAATCGCTCCCATAG                   gene_unknown   \n",
      "172757  AGGAGCGGCAGTTAAGGCCGCG  Cre10.g431850 & Cre10.g431900   \n",
      "172758  GCTACAGGTGTCTCATCGTACA                  Cre13.g589450   \n",
      "172759  TCAGCGATGCTCCAACCGAGCT                  Cre13.g589450   \n",
      "172760  ATAGTGAGGACGGCGCAGGTGC                  unknown_chrom   \n",
      "172761  CTATGAATCTAATGATCTTCCC  Cre01.g020751 & Cre01.g020800   \n",
      "172762  GCCCTGTCCTGCGCGGCTTGAT                  Cre06.g292750   \n",
      "172763  GAAGCGGGCTACGGGAAGTGGA                   gene_unknown   \n",
      "172764  GCTAGTTGGATGGTCATACGGA                  Cre08.g372100   \n",
      "172765  CTGGATGTTGTCGGGCACGGCG                  Cre13.g589450   \n",
      "172766  ATAGACGGTGGGATGCAGAGTT  Cre16.g670652 & Cre16.g670550   \n",
      "172767  CCTCGGCGACAAAGACAGAACC                   gene_unknown   \n",
      "172768  AAGTGACCAGGCTTATGGTTTT  Cre06.g293700 & Cre06.g293750   \n",
      "172769  GACAGTGACGCCCTCAAAGGGA                  unknown_chrom   \n",
      "172770  TTTTTGTACGGTTCACTTGACT                  Cre06.g304000   \n",
      "172771  TTGTAGGCGGAAGTGGTGCGAT                   gene_unknown   \n",
      "\n",
      "        R4-S#08-HLG_405-500_597-670_normalized_reads  \\\n",
      "0                                              0.000   \n",
      "1                                              9.622   \n",
      "2                                              0.000   \n",
      "3                                              0.000   \n",
      "4                                              0.000   \n",
      "5                                              0.000   \n",
      "6                                              0.000   \n",
      "7                                              0.000   \n",
      "8                                             14.468   \n",
      "9                                              9.622   \n",
      "10                                             0.000   \n",
      "11                                             0.000   \n",
      "12                                             0.000   \n",
      "13                                             0.000   \n",
      "14                                            28.935   \n",
      "15                                            72.339   \n",
      "16                                            19.245   \n",
      "17                                             0.000   \n",
      "18                                             0.000   \n",
      "19                                             0.000   \n",
      "20                                            14.468   \n",
      "21                                             0.000   \n",
      "22                                             0.000   \n",
      "23                                            14.468   \n",
      "24                                             0.000   \n",
      "25                                             0.000   \n",
      "26                                             0.000   \n",
      "27                                             0.000   \n",
      "28                                             0.000   \n",
      "29                                             0.000   \n",
      "...                                              ...   \n",
      "172742                                         0.000   \n",
      "172743                                         0.000   \n",
      "172744                                         0.000   \n",
      "172745                                         0.000   \n",
      "172746                                         0.000   \n",
      "172747                                         9.622   \n",
      "172748                                         0.000   \n",
      "172749                                         0.000   \n",
      "172750                                         0.000   \n",
      "172751                                         0.000   \n",
      "172752                                         0.000   \n",
      "172753                                         0.000   \n",
      "172754                                         0.000   \n",
      "172755                                         0.000   \n",
      "172756                                         0.000   \n",
      "172757                                         0.000   \n",
      "172758                                         0.000   \n",
      "172759                                         9.622   \n",
      "172760                                         0.000   \n",
      "172761                                         0.000   \n",
      "172762                                         0.000   \n",
      "172763                                         0.000   \n",
      "172764                                         0.000   \n",
      "172765                                         0.000   \n",
      "172766                                         0.000   \n",
      "172767                                         0.000   \n",
      "172768                                         9.622   \n",
      "172769                                         0.000   \n",
      "172770                                         0.000   \n",
      "172771                                         0.000   \n",
      "\n",
      "        R4-S#08-ALL_405-500_597-670_normalized_reads  \\\n",
      "0                                              5.555   \n",
      "1                                              4.357   \n",
      "2                                              0.000   \n",
      "3                                             11.109   \n",
      "4                                              0.000   \n",
      "5                                              4.357   \n",
      "6                                              0.000   \n",
      "7                                              0.000   \n",
      "8                                              0.000   \n",
      "9                                              4.357   \n",
      "10                                             0.000   \n",
      "11                                             0.000   \n",
      "12                                             0.000   \n",
      "13                                             0.000   \n",
      "14                                             0.000   \n",
      "15                                            44.437   \n",
      "16                                            39.214   \n",
      "17                                             0.000   \n",
      "18                                             0.000   \n",
      "19                                             8.714   \n",
      "20                                             5.555   \n",
      "21                                             0.000   \n",
      "22                                            17.428   \n",
      "23                                             0.000   \n",
      "24                                             0.000   \n",
      "25                                             4.357   \n",
      "26                                             0.000   \n",
      "27                                             5.555   \n",
      "28                                             4.357   \n",
      "29                                             0.000   \n",
      "...                                              ...   \n",
      "172742                                         0.000   \n",
      "172743                                         0.000   \n",
      "172744                                         0.000   \n",
      "172745                                         0.000   \n",
      "172746                                         4.357   \n",
      "172747                                         0.000   \n",
      "172748                                         0.000   \n",
      "172749                                         0.000   \n",
      "172750                                         0.000   \n",
      "172751                                         0.000   \n",
      "172752                                         0.000   \n",
      "172753                                         0.000   \n",
      "172754                                         0.000   \n",
      "172755                                         0.000   \n",
      "172756                                         0.000   \n",
      "172757                                         0.000   \n",
      "172758                                         0.000   \n",
      "172759                                         0.000   \n",
      "172760                                         4.357   \n",
      "172761                                         0.000   \n",
      "172762                                         0.000   \n",
      "172763                                         0.000   \n",
      "172764                                         0.000   \n",
      "172765                                         0.000   \n",
      "172766                                         0.000   \n",
      "172767                                         0.000   \n",
      "172768                                         0.000   \n",
      "172769                                         4.357   \n",
      "172770                                         0.000   \n",
      "172771                                         0.000   \n",
      "\n",
      "        Ratios: HLG / ALL (405-500,597-670)  \n",
      "0                                  0.000000  \n",
      "1                                  2.208400  \n",
      "2                                       NaN  \n",
      "3                                  0.000000  \n",
      "4                                       NaN  \n",
      "5                                  0.000000  \n",
      "6                                       NaN  \n",
      "7                                       NaN  \n",
      "8                                       inf  \n",
      "9                                  2.208400  \n",
      "10                                      NaN  \n",
      "11                                      NaN  \n",
      "12                                      NaN  \n",
      "13                                      NaN  \n",
      "14                                      inf  \n",
      "15                                 1.627900  \n",
      "16                                 0.490769  \n",
      "17                                      NaN  \n",
      "18                                      NaN  \n",
      "19                                 0.000000  \n",
      "20                                 2.604500  \n",
      "21                                      NaN  \n",
      "22                                 0.000000  \n",
      "23                                      inf  \n",
      "24                                      NaN  \n",
      "25                                 0.000000  \n",
      "26                                      NaN  \n",
      "27                                 0.000000  \n",
      "28                                 0.000000  \n",
      "29                                      NaN  \n",
      "...                                     ...  \n",
      "172742                                  NaN  \n",
      "172743                                  NaN  \n",
      "172744                                  NaN  \n",
      "172745                                  NaN  \n",
      "172746                             0.000000  \n",
      "172747                                  inf  \n",
      "172748                                  NaN  \n",
      "172749                                  NaN  \n",
      "172750                                  NaN  \n",
      "172751                                  NaN  \n",
      "172752                                  NaN  \n",
      "172753                                  NaN  \n",
      "172754                                  NaN  \n",
      "172755                                  NaN  \n",
      "172756                                  NaN  \n",
      "172757                                  NaN  \n",
      "172758                                  NaN  \n",
      "172759                                  inf  \n",
      "172760                             0.000000  \n",
      "172761                                  NaN  \n",
      "172762                                  NaN  \n",
      "172763                                  NaN  \n",
      "172764                                  NaN  \n",
      "172765                                  NaN  \n",
      "172766                                  NaN  \n",
      "172767                                  NaN  \n",
      "172768                                  inf  \n",
      "172769                             0.000000  \n",
      "172770                                  NaN  \n",
      "172771                                  NaN  \n",
      "\n",
      "[172772 rows x 5 columns]\n"
     ]
    }
   ],
   "source": [
    "data = pd.read_csv('TAG Data.csv')\n",
    "\n",
    "data = data[[ 'IB' , 'gene' , 'R4-S#08-HLG_405-500_597-670_normalized_reads' , 'R4-S#08-ALL_405-500_597-670_normalized_reads']]\n",
    "data ['Ratios: HLG / ALL (405-500,597-670)'] = data ['R4-S#08-HLG_405-500_597-670_normalized_reads'] / data['R4-S#08-ALL_405-500_597-670_normalized_reads']\n",
    "\n",
    "print (data)"
   ]
  },
  {
   "cell_type": "code",
   "execution_count": 5,
   "metadata": {},
   "outputs": [
    {
     "name": "stdout",
     "output_type": "stream",
     "text": [
      "Empty DataFrame\n",
      "Columns: [IB, gene, R4-S#08-HLG_405-500_597-670_normalized_reads, R4-S#08-ALL_405-500_597-670_normalized_reads, Ratios: HLG / ALL (405-500, 597-670)]\n",
      "Index: []\n"
     ]
    }
   ],
   "source": [
    "data = pd.read_csv('TAG Data.csv')\n",
    "\n",
    "data = data[[ 'IB' , 'gene' , 'R4-S#08-HLG_405-500_597-670_normalized_reads' , 'R4-S#08-ALL_405-500_597-670_normalized_reads']]\n",
    "data ['Ratios: HLG / ALL (405-500, 597-670)'] = data ['R4-S#08-HLG_405-500_597-670_normalized_reads'] / data['R4-S#08-ALL_405-500_597-670_normalized_reads']\n",
    "\n",
    "# < 0 for depleted for all of the mutants\n",
    "filter = data ['Ratios: HLG / ALL (405-500, 597-670)'] < 0\n",
    "data.where(filter, inplace = True)\n",
    "\n",
    "data = data.dropna()\n",
    "\n",
    "print (data)\n",
    "\n",
    "# No ratio is less than 0"
   ]
  },
  {
   "cell_type": "markdown",
   "metadata": {},
   "source": [
    "### Every row which has \"NaN\" means that the ratio of HLG / ALL is not between 0 and 1, for not enriched"
   ]
  },
  {
   "cell_type": "code",
   "execution_count": 7,
   "metadata": {},
   "outputs": [
    {
     "name": "stdout",
     "output_type": "stream",
     "text": [
      "AxesSubplot(0.125,0.125;0.775x0.755)\n"
     ]
    },
    {
     "data": {
      "image/png": "[encoded data removed]",
      "text/plain": [
       "<Figure size 432x288 with 1 Axes>"
      ]
     },
     "metadata": {
      "needs_background": "light"
     },
     "output_type": "display_data"
    }
   ],
   "source": [
    "data = pd.read_csv('TAG Data.csv')\n",
    "\n",
    "data = data[[ 'IB' , 'gene' , 'R4-S#08-HLG_405-500_597-670_normalized_reads' , 'R4-S#08-ALL_405-500_597-670_normalized_reads']]\n",
    "data ['Ratios: HLG / ALL (405-500, 597-670)'] = data ['R4-S#08-HLG_405-500_597-670_normalized_reads'] / data['R4-S#08-ALL_405-500_597-670_normalized_reads']\n",
    "\n",
    "# < 0 for depleted for all of the mutants\n",
    "filter = data ['Ratios: HLG / ALL (405-500, 597-670)'] > 0\n",
    "filter1 = data ['Ratios: HLG / ALL (405-500, 597-670)'] < 1\n",
    "data.where(filter & filter1, inplace = True)\n",
    "\n",
    "data = data.dropna()\n",
    "\n",
    "newdata = data.replace([np.inf, -np.inf], np.nan)\n",
    "newdata = newdata.dropna()\n",
    "\n",
    "histo = newdata['Ratios: HLG / ALL (405-500, 597-670)'].hist(bins = 100, color = 'plum', grid = True, xlabelsize = 12, ylabelsize = 12)\n",
    "plt.xlabel(\"Ratios: HLG / ALL (405-500, 597-670)\", fontsize = 15)\n",
    "plt.ylabel(\"Frequency\", fontsize = 15)\n",
    "\n",
    "print histo"
   ]
  },
  {
   "cell_type": "markdown",
   "metadata": {},
   "source": [
    "### Every row which has \"NaN\" means that the ratio of HLG / ALL is not  > 1, for enriched"
   ]
  },
  {
   "cell_type": "code",
   "execution_count": 8,
   "metadata": {
    "scrolled": true
   },
   "outputs": [
    {
     "name": "stdout",
     "output_type": "stream",
     "text": [
      "AxesSubplot(0.125,0.125;0.775x0.755)\n"
     ]
    },
    {
     "data": {
      "image/png": "[encoded data removed]",
      "text/plain": [
       "<Figure size 432x288 with 1 Axes>"
      ]
     },
     "metadata": {
      "needs_background": "light"
     },
     "output_type": "display_data"
    }
   ],
   "source": [
    "data = pd.read_csv('TAG Data.csv')\n",
    "\n",
    "data = data[[ 'IB' , 'gene' , 'R4-S#08-HLG_405-500_597-670_normalized_reads' , 'R4-S#08-ALL_405-500_597-670_normalized_reads']]\n",
    "data ['Ratios: HLG / ALL (405-500, 597-670)'] = data ['R4-S#08-HLG_405-500_597-670_normalized_reads'] / data['R4-S#08-ALL_405-500_597-670_normalized_reads']\n",
    "\n",
    "# < 0 for depleted for all of the mutants\n",
    "filter = data ['Ratios: HLG / ALL (405-500, 597-670)'] > 1\n",
    "data.where(filter, inplace = True)\n",
    "\n",
    "data = data.dropna()\n",
    "\n",
    "newdata = data.replace([np.inf, -np.inf], np.nan)\n",
    "newdata = newdata.dropna()\n",
    "\n",
    "histo = newdata['Ratios: HLG / ALL (405-500, 597-670)'].hist(bins = 100, color = 'skyblue', grid = True, xlabelsize = 12, ylabelsize = 12)\n",
    "plt.xlabel(\"Ratios: HLG / ALL (405-500, 597-670)\", fontsize = 15)\n",
    "plt.ylabel(\"Frequency\", fontsize = 15)\n",
    "\n",
    "print histo"
   ]
  },
  {
   "cell_type": "markdown",
   "metadata": {},
   "source": [
    "### All ratios of HLG / ALL (405-500, 597-670)"
   ]
  },
  {
   "cell_type": "code",
   "execution_count": 11,
   "metadata": {},
   "outputs": [
    {
     "name": "stdout",
     "output_type": "stream",
     "text": [
      "AxesSubplot(0.125,0.125;0.775x0.755)\n"
     ]
    },
    {
     "data": {
      "image/png": "[encoded data removed]",
      "text/plain": [
       "<Figure size 432x288 with 1 Axes>"
      ]
     },
     "metadata": {
      "needs_background": "light"
     },
     "output_type": "display_data"
    }
   ],
   "source": [
    "data = pd.read_csv('TAG Data.csv')\n",
    "\n",
    "data = data[[ 'IB' , 'gene' , 'R4-S#08-HLG_405-500_597-670_normalized_reads' , 'R4-S#08-ALL_405-500_597-670_normalized_reads']]\n",
    "data ['Ratios: HLG / ALL (405-500, 597-670)'] = data ['R4-S#08-HLG_405-500_597-670_normalized_reads'] / data['R4-S#08-ALL_405-500_597-670_normalized_reads']\n",
    "\n",
    "newData = data.replace([np.inf, -np.inf], np.nan)\n",
    "newData = newdata.dropna()\n",
    "\n",
    "histo = newdata['Ratios: HLG / ALL (405-500, 597-670)'].hist(bins = 100, color = 'orange', grid = True, xlabelsize = 12, ylabelsize = 12)\n",
    "plt.xlabel(\"Ratios: HLG / ALL (405-500, 597-670)\", fontsize = 15)\n",
    "plt.ylabel(\"Frequency\", fontsize = 15)\n",
    "\n",
    "print histo"
   ]
  },
  {
   "cell_type": "code",
   "execution_count": 3,
   "metadata": {},
   "outputs": [],
   "source": [
    "data = pd.read_csv('TAG Data.csv')\n",
    "\n",
    "data = data[[ 'IB' , 'gene' , 'R4-S#08-HLG_405-500_597-670_normalized_reads' , 'R4-S#08-ALL_405-500_597-670_normalized_reads']]\n",
    "data ['Ratios: HLG / ALL (405-500,597-670)'] = data ['R4-S#08-HLG_405-500_597-670_normalized_reads'] / data['R4-S#08-ALL_405-500_597-670_normalized_reads']\n"
   ]
  },
  {
   "cell_type": "code",
   "execution_count": null,
   "metadata": {},
   "outputs": [],
   "source": []
  }
 ],
 "metadata": {
  "kernelspec": {
   "display_name": "Python 2",
   "language": "python",
   "name": "python2"
  },
  "language_info": {
   "codemirror_mode": {
    "name": "ipython",
    "version": 2
   },
   "file_extension": ".py",
   "mimetype": "text/x-python",
   "name": "python",
   "nbconvert_exporter": "python",
   "pygments_lexer": "ipython2",
   "version": "2.7.16"
  }
 },
 "nbformat": 4,
 "nbformat_minor": 2
}
