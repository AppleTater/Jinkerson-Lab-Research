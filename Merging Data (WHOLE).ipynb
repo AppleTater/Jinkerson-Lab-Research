{
 "cells": [
  {
   "cell_type": "code",
   "execution_count": 2,
   "metadata": {},
   "outputs": [],
   "source": [
    "import pandas as pd\n",
    "import matplotlib.pyplot as plt\n",
    "import numpy as np\n",
    "from numpy import median\n",
    "import re\n",
    "import sys\n",
    "\n",
    "data = pd.read_csv('TAG Data.csv')"
   ]
  },
  {
   "cell_type": "markdown",
   "metadata": {},
   "source": [
    "## Reading in Ratio Median"
   ]
  },
  {
   "cell_type": "code",
   "execution_count": 132,
   "metadata": {},
   "outputs": [],
   "source": [
    "data = pd.read_csv('TAG Data.csv')\n",
    "\n",
    "data = data[['gene' , 'R5-S#11-HLG_WHOLE_normalized_reads' , 'R5-S#11-ALL_WHOLE_normalized_reads']]\n",
    "data ['Ratios: HLG / ALL (Whole)'] = data ['R5-S#11-HLG_WHOLE_normalized_reads'] / data['R5-S#11-ALL_WHOLE_normalized_reads']\n",
    "\n",
    "data = data.sort_values('gene')\n",
    "data = data.replace([np.inf, -np.inf], np.nan)\n",
    "data = data.dropna()\n",
    "\n",
    "data = data.drop(['R5-S#11-HLG_WHOLE_normalized_reads' , 'R5-S#11-ALL_WHOLE_normalized_reads'], axis = 1)\n",
    "\n",
    "data = pd.DataFrame(data)\n",
    "\n",
    "mean = data.groupby(['gene']).mean()\n",
    "mean.rename(columns = {'Ratios: HLG / ALL (Whole)': 'Ratio Mean'}, inplace = True)\n",
    "# mean\n",
    "\n",
    "median = data.groupby(['gene']).median()\n",
    "median.rename(columns = {'Ratios: HLG / ALL (Whole)': 'Ratio Median'}, inplace = True)\n",
    "# median\n",
    "\n",
    "count = data.groupby(['gene']).count()\n",
    "count.rename(columns = {'Ratios: HLG / ALL (Whole)': 'Count'}, inplace = True)\n",
    "# count\n",
    "\n",
    "result = data.reset_index(drop = True)\n",
    "result = pd.concat([mean, median, count], axis = 1)\n",
    "\n",
    "result = result.sort_values(by = ['Ratio Median'], ascending = False)\n",
    "\n",
    "greater = result[result['Count'] < 3].index\n",
    "result.drop(greater, inplace = True)\n",
    "\n",
    "result.to_csv(\"GroupBy.csv\", header = True)\n",
    "\n",
    "result = pd.read_csv(\"GroupBy.csv\")\n",
    "result = result.rename(columns = {'gene' : \"Gene\"})\n",
    "\n",
    "result.to_csv(\"GroupBy.csv\", header = True)\n",
    "\n",
    "# result"
   ]
  },
  {
   "cell_type": "markdown",
   "metadata": {},
   "source": [
    "## Cre number to GO term"
   ]
  },
  {
   "cell_type": "code",
   "execution_count": 4,
   "metadata": {},
   "outputs": [],
   "source": [
    "dffile =  'C:\\Users\\jazzy\\Desktop\\School\\Jinkerson Lab\\Data\\May 13, 2020\\Creinhardtii_281_v5.5.annotation_info.txt'\n",
    "header = ['number','cre','cre_transcript','cre_transcript2','pfam','pthr',\n",
    "          'kog','ec','kass','go','ath','ath_name','ath_desc']\n",
    "df_annotations = pd.read_csv(dffile, skipinitialspace = True, sep = '\\t', \n",
    "                             header = None, names = header)\n",
    "\n",
    "# make dict from cre to go\n",
    "d_cre_to_go = dict(zip(df_annotations['cre'],df_annotations['go']))\n",
    "\n",
    "# convert entries into lists\n",
    "for gene in d_cre_to_go.iterkeys():\n",
    "    if isinstance(d_cre_to_go[gene], (str, unicode)): # is it a string (and not np.nan?)\n",
    "        d_cre_to_go[gene] = d_cre_to_go[gene].split(',')\n",
    "        \n",
    "d_cre_to_go = pd.DataFrame.from_dict(d_cre_to_go, orient = 'index')\n",
    "\n",
    "d_cre_to_go.to_csv(\"GOTerms.csv\", header = True)\n",
    "\n",
    "d_cre_to_go = pd.read_csv(\"GOTerms.csv\")\n",
    "\n",
    "d_cre_to_go = d_cre_to_go.rename(columns = {\"Unnamed: 0\" : \"Gene\", \"0\" : \"GO Term\"})\n",
    "\n",
    "d_cre_to_go.to_csv(\"GOTerms.csv\", header = True)\n",
    "\n",
    "#d_cre_to_go"
   ]
  },
  {
   "cell_type": "markdown",
   "metadata": {},
   "source": [
    "## Extracted gene, confidence level, feature, and IB from large-lib_full_2016.10.25\n",
    "## Only keep the genes with a max confidence level of 4\n",
    "## And reorder the confidence level from least to greatest\n",
    "## Remove \".v5.5\""
   ]
  },
  {
   "cell_type": "code",
   "execution_count": 130,
   "metadata": {},
   "outputs": [],
   "source": [
    "data = pd.read_csv('large-lib_full_2016.10.25.csv')\n",
    "\n",
    "data = data.drop(['well', 'side', 'chromosome', 'plate', 'strand', \n",
    "                  'min_position', 'full_position', 'orientation', \n",
    "                  'gene_end_distances', 'total_reads', \n",
    "                  'if_both_sides', 'LEAPseq_distance', \n",
    "                  'LEAPseq_percent_confirming',\n",
    "                  'LEAPseq_N_confirming', 'LEAPseq_N_nonconf', \n",
    "                  'LEAPseq_N_unique_pos',\n",
    "                  'flanking_seq', 'plate_errors', 'well_errors', \n",
    "                  'plate_rpm', 'well_rpm',\n",
    "                  'if_fixed_position'], axis = 1)\n",
    "\n",
    "filterData = data[data['confidence_level'] <= 4]\n",
    "filterData = filterData.sort_values('confidence_level')\n",
    "filterData = filterData.rename(columns = {\"gene\" : \"Gene\",\n",
    "                                          \"confidence_level\" : \"Confidence Level\",\n",
    "                                          \"feature\" : \"Feature\"})\n",
    "filterData = filterData.reset_index(drop = True)\n",
    "\n",
    "genie = filterData[\"Gene\"].astype(str).str.replace(r'.v5.5$', '')\n",
    "genie = genie.str.replace(r\".v5.5\", '').str.strip()\n",
    "\n",
    "filterData = filterData.drop(columns = {\"Gene\"})\n",
    "filterData[\"Gene\"] = genie\n",
    "\n",
    "filterData =  filterData[[\"Gene\", \"Confidence Level\", \"IB\", \"Feature\"]]\n",
    "# filterData [\"Feature\"] = filterData[\"Feature\"].str.capitalize()\n",
    "filterData.to_csv(\"ConfidenceLevels.csv\", header = True)\n",
    "\n",
    "# filterData"
   ]
  },
  {
   "cell_type": "markdown",
   "metadata": {},
   "source": [
    "## Big Merge"
   ]
  },
  {
   "cell_type": "code",
   "execution_count": 176,
   "metadata": {
    "scrolled": false
   },
   "outputs": [
    {
     "name": "stdout",
     "output_type": "stream",
     "text": [
      "100000000 loops, best of 3: 19.6 ns per loop\n"
     ]
    }
   ],
   "source": [
    "df1 = pd.read_csv('GroupBy.csv', sep = ',', dtype = str)\n",
    "df2 = pd.read_csv('GOTerms.csv', sep = ',', dtype = str)\n",
    "df3 = pd.read_csv('ConfidenceLevels.csv', sep = ',', dtype = str)\n",
    "\n",
    "# bigMerge = df1.merge(df2, on = 'Gene').merge(df3, on = 'Gene')\n",
    "\n",
    "# bigMerge = bigMerge.drop(columns = [\"Unnamed: 0_x\", \"Unnamed: 0_y\", \n",
    "#                                     \"Unnamed: 0\"])\n",
    "# # bigMerge = df1.merge(df2, how = 'outer', on = \"Gene\", validate = \"m:m\")\n",
    "# # # bigMerge = bigMerge.drop(columns = \"Unnamed: 0\")\n",
    "\n",
    "# bigMerge = bigMerge[[\"Gene\", \"Ratio Median\", \"Ratio Mean\", \"GO Term\", \n",
    "#                      \"Feature\", \"Confidence Level\", \"IB\"]]\n",
    "\n",
    "# # bigMerge.to_csv(\"BigMerge.csv\", header = True)\n",
    "\n",
    "# bigMerge\n",
    "\n",
    "leftBigMerge = pd.merge(left = df1, right = df2, how = 'left', \n",
    "                        left_on = 'Gene', right_on = 'Gene')\n",
    "leftBigMerge = pd.merge(left = leftBigMerge, right = df3, how = 'left',\n",
    "                        left_on = 'Gene', right_on = 'Gene')\n",
    "leftBigMerge = leftBigMerge.drop(columns = [\"Unnamed: 0_x\", \"Unnamed: 0_y\", \n",
    "                                    \"Unnamed: 0\"])\n",
    "leftBigMerge = leftBigMerge[[\"Gene\", \"Ratio Median\", \"Ratio Mean\", \"GO Term\", \n",
    "                             \"Feature\", \"Confidence Level\", \"IB\"]]\n",
    "\n",
    "# feat = leftBigMerge[\"Feature\"].copy()\n",
    "# leftBigMerge[\"Feature\"] = leftBigMerge[\"Feature\"].str.cat(feat, sep = \", \")\n",
    "leftBigMerge[\"Feature\"] = leftBigMerge[\"Feature\"].astype(str)\n",
    "\n",
    "# level = leftBigMerge[\"Confidence Level\"].copy()\n",
    "# level = level.astype(str)\n",
    "leftBigMerge[\"Confidence Level\"] = leftBigMerge[\"Confidence Level\"].astype(str)\n",
    "# leftBigMerge[\"Confidence Level\"] = leftBigMerge[\"Confidence Level\"].str.cat(level, sep = \", \")\n",
    "\n",
    "# bar = leftBigMerge[\"IB\"].copy()\n",
    "# leftBigMerge[\"IB\"] = leftBigMerge[\"IB\"].str.cat(bar, sep = \", \")\n",
    "leftBigMerge[\"IB\"] = leftBigMerge[\"IB\"].astype(str)\n",
    "\n",
    "# leftBigMerge = leftBigMerge.drop_duplicates()\n",
    "\n",
    "# leftBigMerge = leftBigMerge[[\"Gene\", \"Ratio Median\", \"Ratio Mean\", \n",
    "#                                         \"GO Term\", \"Feature\", \"Confidence Level\",\n",
    "#                                         \"IB\"]].groupby([\"Gene\", \"Ratio Median\", \n",
    "#                                                         \"Ratio Mean\", \"GO Term\"])[\"Feature\", \n",
    "#                                                                                   \"Confidence Level\", \n",
    "#                                                                                   \"IB\"].transform(lambda x: \", \".join(x))\n",
    "leftBigMerge.head()"
   ]
  },
  {
   "cell_type": "markdown",
   "metadata": {},
   "source": [
    "## Keep rows that have GO Terms and the first of the repeated Gene"
   ]
  },
  {
   "cell_type": "code",
   "execution_count": 114,
   "metadata": {},
   "outputs": [],
   "source": [
    "slim = bigMerge[pd.notnull(bigMerge[\"GO Term\"])]\n",
    "\n",
    "slim = slim.drop_duplicates(subset = 'Gene', keep = \"first\")\n",
    "slim = slim.reset_index(drop = True)\n",
    "\n",
    "slim.to_csv(\"SlimShady.csv\", header = True)"
   ]
  },
  {
   "cell_type": "markdown",
   "metadata": {},
   "source": [
    "## Definition"
   ]
  },
  {
   "cell_type": "code",
   "execution_count": 148,
   "metadata": {},
   "outputs": [],
   "source": [
    "defo = pd.read_csv('GO to Description.csv')\n",
    "\n",
    "defo = defo.drop(columns = [\"holds_over_chain\", \"Unnamed: 0\", \"is_a\", \n",
    "                            \"is_class_level\", \"is_metadata_tag\", \"is_obsolete\",\n",
    "                            \"is_transitive\", \"name\", \"namespace\", \"relationship\",\n",
    "                            \"replaced_by\", \"subset\", \"synonym\", \"transitive_over\",\n",
    "                            \"xref\"])\n",
    "defo = defo[[\"id\", \"alt_id\", \"consider\", \"def\", \"comment\"]]\n",
    "defo = defo.rename(columns = {\"id\" : \"ID\", \"alt_id\" : \"Alternate ID\",\n",
    "                              \"consider\" : \"Consider\", \"def\" : \"Definition\",\n",
    "                              \"comment\" : \"Comment\"})\n",
    "\n",
    "defo.to_csv(\"Definitions Maybe.csv\", header = True) \n",
    "\n",
    "# defo"
   ]
  },
  {
   "cell_type": "markdown",
   "metadata": {},
   "source": [
    "## Info from the JGI file\n",
    "## Remove \".t.1.1\""
   ]
  },
  {
   "cell_type": "code",
   "execution_count": 147,
   "metadata": {
    "scrolled": true
   },
   "outputs": [],
   "source": [
    "desc = pd.read_csv('Creinhardtii_281_v5.6.description.JGI.csv')\n",
    "\n",
    "desc = desc.rename(columns = {\"Column1\" : \"Gene\", \"Column2\" : \"Description\"})\n",
    "genie = filterData[\"Gene\"].astype(str).str.replace(r'.t1.1$', '')\n",
    "\n",
    "desc = desc.drop(columns = {\"Gene\"})\n",
    "desc[\"Gene\"] = genie\n",
    "desc = desc[[\"Gene\", \"Description\"]]\n",
    "\n",
    "desc.to_csv(\"Descriptions.csv\", header = True) "
   ]
  },
  {
   "cell_type": "markdown",
   "metadata": {},
   "source": [
    "## Based of of the gene name, with description"
   ]
  },
  {
   "cell_type": "code",
   "execution_count": 193,
   "metadata": {},
   "outputs": [
    {
     "data": {
      "text/html": [
       "<div>\n",
       "<style scoped>\n",
       "    .dataframe tbody tr th:only-of-type {\n",
       "        vertical-align: middle;\n",
       "    }\n",
       "\n",
       "    .dataframe tbody tr th {\n",
       "        vertical-align: top;\n",
       "    }\n",
       "\n",
       "    .dataframe thead th {\n",
       "        text-align: right;\n",
       "    }\n",
       "</style>\n",
       "<table border=\"1\" class=\"dataframe\">\n",
       "  <thead>\n",
       "    <tr style=\"text-align: right;\">\n",
       "      <th></th>\n",
       "      <th>Gene</th>\n",
       "      <th>Ratio Median</th>\n",
       "      <th>Ratio Mean</th>\n",
       "      <th>GO Term</th>\n",
       "      <th>Feature</th>\n",
       "      <th>Confidence Level</th>\n",
       "      <th>Description</th>\n",
       "    </tr>\n",
       "    <tr>\n",
       "      <th>IB</th>\n",
       "      <th></th>\n",
       "      <th></th>\n",
       "      <th></th>\n",
       "      <th></th>\n",
       "      <th></th>\n",
       "      <th></th>\n",
       "      <th></th>\n",
       "    </tr>\n",
       "  </thead>\n",
       "  <tbody>\n",
       "    <tr>\n",
       "      <th>GTTTGGACGCAATAATTTATGT</th>\n",
       "      <td>Cre08.g369667</td>\n",
       "      <td>200.06134301270416</td>\n",
       "      <td>135.72555963803572</td>\n",
       "      <td>['GO:0004672', 'GO:0005524', 'GO:0006468']</td>\n",
       "      <td>3'UTR</td>\n",
       "      <td>1</td>\n",
       "      <td>NaN</td>\n",
       "    </tr>\n",
       "    <tr>\n",
       "      <th>TGGCGTTAGGTCAGCTGGAGGC</th>\n",
       "      <td>Cre08.g369667</td>\n",
       "      <td>200.06134301270416</td>\n",
       "      <td>135.72555963803572</td>\n",
       "      <td>['GO:0004672', 'GO:0005524', 'GO:0006468']</td>\n",
       "      <td>3'UTR</td>\n",
       "      <td>1</td>\n",
       "      <td>NaN</td>\n",
       "    </tr>\n",
       "    <tr>\n",
       "      <th>TGCCCGGCCACGGTGAGCCACA</th>\n",
       "      <td>Cre08.g369667</td>\n",
       "      <td>200.06134301270416</td>\n",
       "      <td>135.72555963803572</td>\n",
       "      <td>['GO:0004672', 'GO:0005524', 'GO:0006468']</td>\n",
       "      <td>3'UTR</td>\n",
       "      <td>3</td>\n",
       "      <td>NaN</td>\n",
       "    </tr>\n",
       "    <tr>\n",
       "      <th>TCGGCCAGGGCTACCAGTAAGA</th>\n",
       "      <td>Cre08.g369667</td>\n",
       "      <td>200.06134301270416</td>\n",
       "      <td>135.72555963803572</td>\n",
       "      <td>['GO:0004672', 'GO:0005524', 'GO:0006468']</td>\n",
       "      <td>intron</td>\n",
       "      <td>3</td>\n",
       "      <td>NaN</td>\n",
       "    </tr>\n",
       "    <tr>\n",
       "      <th>ACTCCTTGGTGGAGATCGCAGA</th>\n",
       "      <td>Cre08.g369667</td>\n",
       "      <td>200.06134301270416</td>\n",
       "      <td>135.72555963803572</td>\n",
       "      <td>['GO:0004672', 'GO:0005524', 'GO:0006468']</td>\n",
       "      <td>intron</td>\n",
       "      <td>4</td>\n",
       "      <td>NaN</td>\n",
       "    </tr>\n",
       "  </tbody>\n",
       "</table>\n",
       "</div>"
      ],
      "text/plain": [
       "                                 Gene        Ratio Median          Ratio Mean  \\\n",
       "IB                                                                              \n",
       "GTTTGGACGCAATAATTTATGT  Cre08.g369667  200.06134301270416  135.72555963803572   \n",
       "TGGCGTTAGGTCAGCTGGAGGC  Cre08.g369667  200.06134301270416  135.72555963803572   \n",
       "TGCCCGGCCACGGTGAGCCACA  Cre08.g369667  200.06134301270416  135.72555963803572   \n",
       "TCGGCCAGGGCTACCAGTAAGA  Cre08.g369667  200.06134301270416  135.72555963803572   \n",
       "ACTCCTTGGTGGAGATCGCAGA  Cre08.g369667  200.06134301270416  135.72555963803572   \n",
       "\n",
       "                                                           GO Term Feature  \\\n",
       "IB                                                                           \n",
       "GTTTGGACGCAATAATTTATGT  ['GO:0004672', 'GO:0005524', 'GO:0006468']   3'UTR   \n",
       "TGGCGTTAGGTCAGCTGGAGGC  ['GO:0004672', 'GO:0005524', 'GO:0006468']   3'UTR   \n",
       "TGCCCGGCCACGGTGAGCCACA  ['GO:0004672', 'GO:0005524', 'GO:0006468']   3'UTR   \n",
       "TCGGCCAGGGCTACCAGTAAGA  ['GO:0004672', 'GO:0005524', 'GO:0006468']  intron   \n",
       "ACTCCTTGGTGGAGATCGCAGA  ['GO:0004672', 'GO:0005524', 'GO:0006468']  intron   \n",
       "\n",
       "                       Confidence Level Description  \n",
       "IB                                                   \n",
       "GTTTGGACGCAATAATTTATGT                1         NaN  \n",
       "TGGCGTTAGGTCAGCTGGAGGC                1         NaN  \n",
       "TGCCCGGCCACGGTGAGCCACA                3         NaN  \n",
       "TCGGCCAGGGCTACCAGTAAGA                3         NaN  \n",
       "ACTCCTTGGTGGAGATCGCAGA                4         NaN  "
      ]
     },
     "execution_count": 193,
     "metadata": {},
     "output_type": "execute_result"
    }
   ],
   "source": [
    "data1 = pd.read_csv(\"BigMerge.csv\", sep = ',', dtype = str)\n",
    "data2 = pd.read_csv(\"Descriptions.csv\", sep = ',')\n",
    "\n",
    "superLeft = pd.merge(left = data1, right = data2, how = 'left', \n",
    "                     left_on = 'Gene', right_on = 'Gene')\n",
    "superLeft = superLeft.drop(columns = {\"Unnamed: 0_x\", \"Unnamed: 0_y\"})\n",
    "\n",
    "superLeft.to_csv(\"Mega Large Merge.csv\", header = True) \n",
    "\n",
    "superLeft = superLeft.set_index('IB')\n",
    "\n",
    "superLeft.to_csv(\"Mega Large Merge.csv\", header = True) \n",
    "\n",
    "superLeft.head()\n"
   ]
  },
  {
   "cell_type": "code",
   "execution_count": null,
   "metadata": {
    "scrolled": true
   },
   "outputs": [],
   "source": []
  },
  {
   "cell_type": "code",
   "execution_count": null,
   "metadata": {},
   "outputs": [],
   "source": []
  }
 ],
 "metadata": {
  "kernelspec": {
   "display_name": "Python 2",
   "language": "python",
   "name": "python2"
  },
  "language_info": {
   "codemirror_mode": {
    "name": "ipython",
    "version": 2
   },
   "file_extension": ".py",
   "mimetype": "text/x-python",
   "name": "python",
   "nbconvert_exporter": "python",
   "pygments_lexer": "ipython2",
   "version": "2.7.16"
  }
 },
 "nbformat": 4,
 "nbformat_minor": 2
}
