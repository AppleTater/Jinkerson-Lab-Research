{
 "cells": [
  {
   "cell_type": "markdown",
   "metadata": {},
   "source": [
    "# HLG / ALL (101-196, 309-404)"
   ]
  },
  {
   "cell_type": "markdown",
   "metadata": {},
   "source": [
    "### Every row which has \"NaN\" means that the ratio of HLG / ALL is not < 0, for depleted for all of the mutants"
   ]
  },
  {
   "cell_type": "code",
   "execution_count": 1,
   "metadata": {},
   "outputs": [],
   "source": [
    "import pandas as pd\n",
    "import matplotlib.pyplot as plt\n",
    "import numpy as np\n",
    "import re\n",
    "\n",
    "data = pd.read_csv('TAG Data.csv')"
   ]
  },
  {
   "cell_type": "code",
   "execution_count": 2,
   "metadata": {},
   "outputs": [
    {
     "name": "stdout",
     "output_type": "stream",
     "text": [
      "                            IB                           gene  \\\n",
      "0       TCGTCGGACAAGCAGTCGGAGC                  Cre10.g459900   \n",
      "1       GTAAGCGAATGAGTCCAGGCGC                  Cre03.g144787   \n",
      "2       TTGAGCGACCTGTGTGGAGAGT                  unknown_chrom   \n",
      "3       TCCCGGTAAGAGTTGCTTTCGG                  Cre13.g567600   \n",
      "4       AGGCTGATGCCGCGAAAACCCT                  Cre12.g509100   \n",
      "5       AAAGACGGGGCCGATCGTGAAA                  Cre07.g357200   \n",
      "6       GGGCACGCATGTTTGTCGGCAA                  Cre05.g231000   \n",
      "7       CGCTAGCTCTCGGAAACAGGGA                  Cre12.g501150   \n",
      "8       TCGTCACGTGTTTGTGATAAGG                  Cre12.g499451   \n",
      "9       GGTAGTGACCTAGACTCGGAGG                  Cre14.g630750   \n",
      "10      AAGCGTTTCACTTGATGGCAGG                   gene_unknown   \n",
      "11      AGCCAATAGGAGGCTCGAGTAG                  Cre03.g207550   \n",
      "12      TGATTATAAAATACAACAGGTC                  Cre03.g161150   \n",
      "13      GCTTTACTGACGAACTCTAGCA                  Cre05.g239850   \n",
      "14      TTTAGTTTTCATGTCTAATACG                  unknown_chrom   \n",
      "15      GAAATTGTAGTCCCCTTTGGGC                  Cre09.g391541   \n",
      "16      CCCTACATCTGCCGGGTAGTAA                  Cre06.g295200   \n",
      "17      TCGGCGTCCGCCCATTTCGGCT                  Cre13.g603400   \n",
      "18      TCCCCTGAGCGGGAGGGCCCGA                  Cre17.g713674   \n",
      "19      ACGTAGTCAAGGCAGCGGTGGA                  Cre17.g720600   \n",
      "20      GGCCCTCTGTTACCAGTTTCGC                  Cre16.g683953   \n",
      "21       CTTTTCAGAGTGGTTTTTCCA                  Cre14.g633400   \n",
      "22      GAGCAGGCAAGAACACGCAGCA  Cre09.g396650 & Cre09.g396600   \n",
      "23      GGGTGCAGACATCCGTTCCGAC                  Cre17.g741150   \n",
      "24      GCGATTCAGGGGCGTGGAGCGA                  Cre02.g083400   \n",
      "25      CGGGCTCAAACGGATGTGACCC                  unknown_chrom   \n",
      "26      ACCTTGGTGCGTGCTTGTAAGC                  Cre07.g336300   \n",
      "27      TGGTTAGGCGCTGCCTTGCGAT                  Cre04.g214200   \n",
      "28      GAATGGGGCATGAGCGGAGTTC                  Cre02.g111500   \n",
      "29      GTGTGAGGTCGGGCACTTGCGG                  unknown_chrom   \n",
      "...                        ...                            ...   \n",
      "172742  CACGGTTATCGGCAAGTTTTTC  Cre09.g415400 & Cre09.g415450   \n",
      "172743  GTTGTGTGGCCGTGAACTAGTC                  Cre04.g224800   \n",
      "172744  CAGGAATCATACGTTGAAGCAA  Cre10.g434250 & Cre10.g434300   \n",
      "172745  GTGTTTTCATGCGCTTTCGCGG  Cre09.g403108 & Cre09.g403145   \n",
      "172746   ACGCCGTCTATGGGTGACTGG                  unknown_chrom   \n",
      "172747  GAGCCACCCAGGATAGAAGAAA                  Cre13.g588650   \n",
      "172748  GCCTTTAGGAACAGCGCTTGTG                  Cre02.g094700   \n",
      "172749   CTCTACGCATCAGCCAGGCGC                  Cre06.g275950   \n",
      "172750  CACGTTGACGGGGCTAGTCGCC                   gene_unknown   \n",
      "172751  CAGTGACACGGTAGTGGCAGTC                  unknown_chrom   \n",
      "172752  TTCCGCCGTTATGTTTGATGAT                  Cre08.g372100   \n",
      "172753  AATCTCGTCTTGCTCTCACTCC  Cre02.g104201 & Cre02.g104250   \n",
      "172754  CGAGACGGCCAAGGGGAAATCA                  unknown_chrom   \n",
      "172755  GACGAGGGTGGCCGAGCACGAA                  Cre06.g293100   \n",
      "172756  GTCGTTGGAATCGCTCCCATAG                   gene_unknown   \n",
      "172757  AGGAGCGGCAGTTAAGGCCGCG  Cre10.g431850 & Cre10.g431900   \n",
      "172758  GCTACAGGTGTCTCATCGTACA                  Cre13.g589450   \n",
      "172759  TCAGCGATGCTCCAACCGAGCT                  Cre13.g589450   \n",
      "172760  ATAGTGAGGACGGCGCAGGTGC                  unknown_chrom   \n",
      "172761  CTATGAATCTAATGATCTTCCC  Cre01.g020751 & Cre01.g020800   \n",
      "172762  GCCCTGTCCTGCGCGGCTTGAT                  Cre06.g292750   \n",
      "172763  GAAGCGGGCTACGGGAAGTGGA                   gene_unknown   \n",
      "172764  GCTAGTTGGATGGTCATACGGA                  Cre08.g372100   \n",
      "172765  CTGGATGTTGTCGGGCACGGCG                  Cre13.g589450   \n",
      "172766  ATAGACGGTGGGATGCAGAGTT  Cre16.g670652 & Cre16.g670550   \n",
      "172767  CCTCGGCGACAAAGACAGAACC                   gene_unknown   \n",
      "172768  AAGTGACCAGGCTTATGGTTTT  Cre06.g293700 & Cre06.g293750   \n",
      "172769  GACAGTGACGCCCTCAAAGGGA                  unknown_chrom   \n",
      "172770  TTTTTGTACGGTTCACTTGACT                  Cre06.g304000   \n",
      "172771  TTGTAGGCGGAAGTGGTGCGAT                   gene_unknown   \n",
      "\n",
      "        R4-S#09-HLG_101-196_309-404_normalized_reads  \\\n",
      "0                                              0.000   \n",
      "1                                             63.112   \n",
      "2                                              0.000   \n",
      "3                                              0.000   \n",
      "4                                              0.000   \n",
      "5                                           2114.243   \n",
      "6                                              0.000   \n",
      "7                                              0.000   \n",
      "8                                           4922.252   \n",
      "9                                              0.000   \n",
      "10                                           642.033   \n",
      "11                                             0.000   \n",
      "12                                             0.000   \n",
      "13                                             0.000   \n",
      "14                                             0.000   \n",
      "15                                         62897.820   \n",
      "16                                          9971.653   \n",
      "17                                             0.000   \n",
      "18                                             0.000   \n",
      "19                                             0.000   \n",
      "20                                             0.000   \n",
      "21                                          1690.687   \n",
      "22                                            31.556   \n",
      "23                                          2375.522   \n",
      "24                                             0.000   \n",
      "25                                             0.000   \n",
      "26                                             0.000   \n",
      "27                                             0.000   \n",
      "28                                             0.000   \n",
      "29                                            31.556   \n",
      "...                                              ...   \n",
      "172742                                         0.000   \n",
      "172743                                         0.000   \n",
      "172744                                         0.000   \n",
      "172745                                         0.000   \n",
      "172746                                         0.000   \n",
      "172747                                         0.000   \n",
      "172748                                         0.000   \n",
      "172749                                        31.556   \n",
      "172750                                         0.000   \n",
      "172751                                         0.000   \n",
      "172752                                         0.000   \n",
      "172753                                         0.000   \n",
      "172754                                         0.000   \n",
      "172755                                         0.000   \n",
      "172756                                         0.000   \n",
      "172757                                         0.000   \n",
      "172758                                         0.000   \n",
      "172759                                         0.000   \n",
      "172760                                         0.000   \n",
      "172761                                         0.000   \n",
      "172762                                         0.000   \n",
      "172763                                         0.000   \n",
      "172764                                         0.000   \n",
      "172765                                         0.000   \n",
      "172766                                         0.000   \n",
      "172767                                         0.000   \n",
      "172768                                         0.000   \n",
      "172769                                         0.000   \n",
      "172770                                         0.000   \n",
      "172771                                        21.401   \n",
      "\n",
      "        R4-S#09-ALL_101-196_309-404_normalized_reads  \\\n",
      "0                                            160.490   \n",
      "1                                           1303.976   \n",
      "2                                              0.000   \n",
      "3                                              0.000   \n",
      "4                                            397.492   \n",
      "5                                            202.495   \n",
      "6                                           1494.794   \n",
      "7                                            291.503   \n",
      "8                                           1444.408   \n",
      "9                                           1174.913   \n",
      "10                                           263.129   \n",
      "11                                           264.801   \n",
      "12                                           686.747   \n",
      "13                                          2151.682   \n",
      "14                                          2728.325   \n",
      "15                                         24657.567   \n",
      "16                                          7312.055   \n",
      "17                                           313.755   \n",
      "18                                             0.000   \n",
      "19                                             4.450   \n",
      "20                                           606.502   \n",
      "21                                           246.333   \n",
      "22                                          2992.913   \n",
      "23                                          2241.258   \n",
      "24                                           338.233   \n",
      "25                                           264.801   \n",
      "26                                           403.090   \n",
      "27                                          1651.551   \n",
      "28                                           249.224   \n",
      "29                                           240.323   \n",
      "...                                              ...   \n",
      "172742                                         0.000   \n",
      "172743                                         0.000   \n",
      "172744                                         0.000   \n",
      "172745                                         0.000   \n",
      "172746                                         0.000   \n",
      "172747                                         0.000   \n",
      "172748                                         0.000   \n",
      "172749                                         0.000   \n",
      "172750                                         0.000   \n",
      "172751                                         0.000   \n",
      "172752                                         0.000   \n",
      "172753                                         0.000   \n",
      "172754                                         0.000   \n",
      "172755                                         0.000   \n",
      "172756                                         0.000   \n",
      "172757                                         2.225   \n",
      "172758                                         1.866   \n",
      "172759                                         0.000   \n",
      "172760                                         0.000   \n",
      "172761                                         0.000   \n",
      "172762                                         0.000   \n",
      "172763                                         0.000   \n",
      "172764                                         0.000   \n",
      "172765                                         0.000   \n",
      "172766                                         0.000   \n",
      "172767                                         0.000   \n",
      "172768                                         4.450   \n",
      "172769                                         0.000   \n",
      "172770                                         3.732   \n",
      "172771                                         0.000   \n",
      "\n",
      "        Ratios: HLG / ALL (101-196, 309-404)  \n",
      "0                                   0.000000  \n",
      "1                                   0.048400  \n",
      "2                                        NaN  \n",
      "3                                        NaN  \n",
      "4                                   0.000000  \n",
      "5                                  10.440964  \n",
      "6                                   0.000000  \n",
      "7                                   0.000000  \n",
      "8                                   3.407799  \n",
      "9                                   0.000000  \n",
      "10                                  2.439993  \n",
      "11                                  0.000000  \n",
      "12                                  0.000000  \n",
      "13                                  0.000000  \n",
      "14                                  0.000000  \n",
      "15                                  2.550853  \n",
      "16                                  1.363728  \n",
      "17                                  0.000000  \n",
      "18                                       NaN  \n",
      "19                                  0.000000  \n",
      "20                                  0.000000  \n",
      "21                                  6.863421  \n",
      "22                                  0.010544  \n",
      "23                                  1.059906  \n",
      "24                                  0.000000  \n",
      "25                                  0.000000  \n",
      "26                                  0.000000  \n",
      "27                                  0.000000  \n",
      "28                                  0.000000  \n",
      "29                                  0.131307  \n",
      "...                                      ...  \n",
      "172742                                   NaN  \n",
      "172743                                   NaN  \n",
      "172744                                   NaN  \n",
      "172745                                   NaN  \n",
      "172746                                   NaN  \n",
      "172747                                   NaN  \n",
      "172748                                   NaN  \n",
      "172749                                   inf  \n",
      "172750                                   NaN  \n",
      "172751                                   NaN  \n",
      "172752                                   NaN  \n",
      "172753                                   NaN  \n",
      "172754                                   NaN  \n",
      "172755                                   NaN  \n",
      "172756                                   NaN  \n",
      "172757                              0.000000  \n",
      "172758                              0.000000  \n",
      "172759                                   NaN  \n",
      "172760                                   NaN  \n",
      "172761                                   NaN  \n",
      "172762                                   NaN  \n",
      "172763                                   NaN  \n",
      "172764                                   NaN  \n",
      "172765                                   NaN  \n",
      "172766                                   NaN  \n",
      "172767                                   NaN  \n",
      "172768                              0.000000  \n",
      "172769                                   NaN  \n",
      "172770                              0.000000  \n",
      "172771                                   inf  \n",
      "\n",
      "[172772 rows x 5 columns]\n"
     ]
    }
   ],
   "source": [
    "data = data[[ 'IB' , 'gene' , 'R4-S#09-HLG_101-196_309-404_normalized_reads' , 'R4-S#09-ALL_101-196_309-404_normalized_reads']]\n",
    "data ['Ratios: HLG / ALL (101-196, 309-404)'] = data ['R4-S#09-HLG_101-196_309-404_normalized_reads'] / data['R4-S#09-ALL_101-196_309-404_normalized_reads']\n",
    "\n",
    "print (data)"
   ]
  },
  {
   "cell_type": "code",
   "execution_count": 20,
   "metadata": {},
   "outputs": [
    {
     "name": "stdout",
     "output_type": "stream",
     "text": [
      "Empty DataFrame\n",
      "Columns: [IB, gene, R4-S#09-HLG_101-196_309-404_normalized_reads, R4-S#09-ALL_101-196_309-404_normalized_reads, Ratios: HLG / ALL (101-196, 309-404)]\n",
      "Index: []\n"
     ]
    }
   ],
   "source": [
    "data = pd.read_csv('TAG Data.csv')\n",
    "\n",
    "data = data[[ 'IB' , 'gene' , 'R4-S#09-HLG_101-196_309-404_normalized_reads' , 'R4-S#09-ALL_101-196_309-404_normalized_reads']]\n",
    "data ['Ratios: HLG / ALL (101-196, 309-404)'] = data ['R4-S#09-HLG_101-196_309-404_normalized_reads'] / data['R4-S#09-ALL_101-196_309-404_normalized_reads']\n",
    "\n",
    "# < 0 for depleted for all of the mutants\n",
    "filter = data ['Ratios: HLG / ALL (101-196, 309-404)'] < 0\n",
    "data.where(filter, inplace = True)\n",
    "\n",
    "data = data.dropna()\n",
    "\n",
    "print (data)\n",
    "\n",
    "# No ratio is less than 0"
   ]
  },
  {
   "cell_type": "markdown",
   "metadata": {},
   "source": [
    "### Every row which has \"NaN\" means that the ratio of HLG / ALL is not between 0 and 1, for not enriched"
   ]
  },
  {
   "cell_type": "code",
   "execution_count": 25,
   "metadata": {},
   "outputs": [
    {
     "name": "stdout",
     "output_type": "stream",
     "text": [
      "AxesSubplot(0.125,0.125;0.775x0.755)\n"
     ]
    },
    {
     "data": {
      "image/png": "[encoded data removed]",
      "text/plain": [
       "<Figure size 432x288 with 1 Axes>"
      ]
     },
     "metadata": {
      "needs_background": "light"
     },
     "output_type": "display_data"
    }
   ],
   "source": [
    "data = pd.read_csv('TAG Data.csv')\n",
    "\n",
    "data = data[[ 'IB' , 'gene' , 'R4-S#09-HLG_101-196_309-404_normalized_reads' , 'R4-S#09-ALL_101-196_309-404_normalized_reads']]\n",
    "data ['Ratios: HLG / ALL (101-196, 309-404)'] = data ['R4-S#09-HLG_101-196_309-404_normalized_reads'] / data['R4-S#09-ALL_101-196_309-404_normalized_reads']\n",
    "\n",
    "# < 0 for depleted for all of the mutants\n",
    "filter = data ['Ratios: HLG / ALL (101-196, 309-404)'] > 0\n",
    "filter1 = data ['Ratios: HLG / ALL (101-196, 309-404)'] < 1\n",
    "data.where(filter & filter1, inplace = True)\n",
    "\n",
    "data = data.dropna()\n",
    "\n",
    "newdata = data.replace([np.inf, -np.inf], np.nan)\n",
    "newdata = newdata.dropna()\n",
    "\n",
    "histo = newdata['Ratios: HLG / ALL (101-196, 309-404)'].hist(bins = 100, color = 'plum', grid = True, xlabelsize = 12, ylabelsize = 12)\n",
    "plt.xlabel(\"Ratio of HLG / ALL (101-196, 309-404)\", fontsize = 15)\n",
    "plt.ylabel(\"Frequency\", fontsize = 15)\n",
    "\n",
    "print histo"
   ]
  },
  {
   "cell_type": "markdown",
   "metadata": {},
   "source": [
    "### Every row which has \"NaN\" means that the ratio of HLG / ALL is not  > 1, for enriched"
   ]
  },
  {
   "cell_type": "code",
   "execution_count": 10,
   "metadata": {},
   "outputs": [
    {
     "name": "stdout",
     "output_type": "stream",
     "text": [
      "AxesSubplot(0.125,0.125;0.775x0.755)\n"
     ]
    },
    {
     "data": {
      "image/png": "[encoded data removed]",
      "text/plain": [
       "<Figure size 432x288 with 1 Axes>"
      ]
     },
     "metadata": {
      "needs_background": "light"
     },
     "output_type": "display_data"
    }
   ],
   "source": [
    "data = pd.read_csv('TAG Data.csv')\n",
    "\n",
    "data = data[[ 'IB' , 'gene' , 'R4-S#09-HLG_101-196_309-404_normalized_reads' , 'R4-S#09-ALL_101-196_309-404_normalized_reads']]\n",
    "data ['Ratios: HLG / ALL (101-196, 309-404)'] = data ['R4-S#09-HLG_101-196_309-404_normalized_reads'] / data['R4-S#09-ALL_101-196_309-404_normalized_reads']\n",
    "\n",
    "# < 0 for depleted for all of the mutants\n",
    "filter = data ['Ratios: HLG / ALL (101-196, 309-404)'] > 1\n",
    "data.where(filter, inplace = True)\n",
    "\n",
    "data = data.dropna()\n",
    "\n",
    "newdata = data.replace([np.inf, -np.inf], np.nan)\n",
    "newdata = newdata.dropna()\n",
    "\n",
    "histo = newdata['Ratios: HLG / ALL (101-196, 309-404)'].hist(bins = 100, color = 'skyblue', grid = True, xlabelsize = 12, ylabelsize = 12)\n",
    "plt.xlabel(\"Ratio of HLG / ALL (101-196, 309-404)\", fontsize = 15)\n",
    "plt.ylabel(\"Frequency\", fontsize = 15)\n",
    "\n",
    "print histo"
   ]
  },
  {
   "cell_type": "markdown",
   "metadata": {},
   "source": [
    "### All ratios of HLG / ALL (101-196, 309-404)"
   ]
  },
  {
   "cell_type": "code",
   "execution_count": 13,
   "metadata": {},
   "outputs": [
    {
     "name": "stdout",
     "output_type": "stream",
     "text": [
      "AxesSubplot(0.125,0.125;0.775x0.755)\n"
     ]
    },
    {
     "data": {
      "image/png": "[encoded data removed]",
      "text/plain": [
       "<Figure size 432x288 with 1 Axes>"
      ]
     },
     "metadata": {
      "needs_background": "light"
     },
     "output_type": "display_data"
    }
   ],
   "source": [
    "data = pd.read_csv('TAG Data.csv')\n",
    "\n",
    "data = data[[ 'IB' , 'gene' , 'R4-S#09-HLG_101-196_309-404_normalized_reads' , 'R4-S#09-ALL_101-196_309-404_normalized_reads']]\n",
    "data ['Ratios: HLG / ALL (101-196, 309-404)'] = data ['R4-S#09-HLG_101-196_309-404_normalized_reads'] / data['R4-S#09-ALL_101-196_309-404_normalized_reads']\n",
    "\n",
    "newData = data.replace([np.inf, -np.inf], np.nan)\n",
    "newData = newdata.dropna()\n",
    "\n",
    "histo = newdata['Ratios: HLG / ALL (101-196, 309-404)'].hist(bins = 100, color = 'orange', grid = True, xlabelsize = 12, ylabelsize = 12)\n",
    "plt.xlabel(\"Ratio of HLG / ALL (101-196, 309-404)\", fontsize = 15)\n",
    "plt.ylabel(\"Frequency\", fontsize = 15)\n",
    "\n",
    "print histo"
   ]
  },
  {
   "cell_type": "code",
   "execution_count": null,
   "metadata": {},
   "outputs": [],
   "source": []
  }
 ],
 "metadata": {
  "kernelspec": {
   "display_name": "Python 2",
   "language": "python",
   "name": "python2"
  },
  "language_info": {
   "codemirror_mode": {
    "name": "ipython",
    "version": 2
   },
   "file_extension": ".py",
   "mimetype": "text/x-python",
   "name": "python",
   "nbconvert_exporter": "python",
   "pygments_lexer": "ipython2",
   "version": "2.7.16"
  }
 },
 "nbformat": 4,
 "nbformat_minor": 2
}
