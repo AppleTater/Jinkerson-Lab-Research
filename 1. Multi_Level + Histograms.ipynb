{
  "nbformat": 4,
  "nbformat_minor": 0,
  "metadata": {
    "colab": {
      "name": "Copy of Multi-Level + Histograms",
      "provenance": [],
      "collapsed_sections": [
        "eliP3gVUCEvj"
      ],
      "include_colab_link": true
    },
    "kernelspec": {
      "display_name": "Python 3",
      "name": "python3"
    },
    "language_info": {
      "name": "python"
    }
  },
  "cells": [
    {
      "cell_type": "markdown",
      "metadata": {
        "id": "view-in-github",
        "colab_type": "text"
      },
      "source": [
        "<a href=\"https://colab.research.google.com/github/AppleTater/Jinkerson-Lab-Research/blob/master/1.%20Multi_Level%20%2B%20Histograms.ipynb\" target=\"_parent\"><img src=\"https://colab.research.google.com/assets/colab-badge.svg\" alt=\"Open In Colab\"/></a>"
      ]
    },
    {
      "cell_type": "markdown",
      "metadata": {
        "id": "4OyiZ94lX94j"
      },
      "source": [
        "# **Files that need to be uploaded**\n",
        "\n",
        "\n",
        "---\n",
        "* large-lib_full_2016.10.25.csv\n",
        "* TAGData.csv\n"
      ]
    },
    {
      "cell_type": "markdown",
      "metadata": {
        "id": "eliP3gVUCEvj"
      },
      "source": [
        "# Library\n"
      ]
    },
    {
      "cell_type": "code",
      "metadata": {
        "id": "g-2__ny-CBMo"
      },
      "source": [
        "%reload_ext rpy2.ipython\n",
        "\n",
        "# %%R\n",
        "# library(ggplot2)\n",
        "\n",
        "import rpy2.robjects as robjects                          # common rpy2 objects under the abbreviation 'robjects'\n",
        "from rpy2.robjects.packages import importr                # rpy2 packages under the abbreviation 'importr'\n",
        "from rpy2.robjects.vectors import FloatVector             # rpy2 for float conversion\n",
        "import gc                                                 # rpy2 library\n",
        "R_stats = importr('stats',  robject_translations={'format_perc': '_format_perc'})                                \n",
        "# rpy2 stats\n",
        "\n",
        "from io import StringIO\n",
        "\n",
        "from rpy2.rinterface_lib.sexp import StrSexpVector        # rpy2 interface\n",
        "from functools import partial                             # rpy2 tools under the abbreviation 'partial'\n",
        "from rpy2.ipython import html                             # html support\n",
        "html.html_rdataframe=partial(html.html_rdataframe, table_class=\"docutils\")\n",
        "\n",
        "from rpy2.robjects.conversion import localconverter       # rpy2 converter under the abbreviation 'localconverter'  \n",
        "\n",
        "import pandas as pd                                       # these libraries are for redundancy\n",
        "import rpy2.robjects as ro                                # ↓\n",
        "from rpy2.robjects.packages import importr                # ↓\n",
        "from rpy2.robjects import pandas2ri                       # ↓\n"
      ],
      "execution_count": null,
      "outputs": []
    },
    {
      "cell_type": "code",
      "metadata": {
        "id": "d0hqURTmCD15"
      },
      "source": [
        "import pandas as pd                                       # importing common pandas libraries under the abbreviation 'pd' \n",
        "import matplotlib.pyplot as plt                           # was for the requested histogram under the abbreviation 'plt' \n",
        "\n",
        "import numpy.matlib                                       # to calculate mean and median\n",
        "import numpy as np                                        # numpy under the abbreviation 'np' \n",
        "from numpy import median                                  # from the numpy library, import how to get the median\n",
        "\n",
        "import scipy.stats as stats                               # libraries used for BH adjustment under the abbreviation 'stats' \n",
        "import scipy.special                                      # special libraries from scipy\n",
        "\n",
        "import re                                                 # more libraries\n",
        "import sys                                                # more libraries\n",
        "\n",
        "from IPython.display import (                             # display data, if wanted, as different media file types\n",
        "    display_pretty, display_html, display_jpeg,\n",
        "    display_png, display_json, display_latex, display_svg\n",
        ")\n",
        "\n",
        "from IPython.display import display                       # more display tools\n",
        "import itertools                                          # more display tools\n",
        "import gc                                                 # more display tools\n",
        "\n",
        "import statsmodels.api as sm                              # stats models under the abbreviation 'sm'\n",
        "import statsmodels.stats.multitest as smm                 # stats models under the abbreviation 'smm'\n",
        "import statsmodels.formula.api as smf                     # stats models under the abbreviation 'smf'\n",
        "\n",
        "import random"
      ],
      "execution_count": null,
      "outputs": []
    },
    {
      "cell_type": "markdown",
      "metadata": {
        "id": "z2syER7FYSfW"
      },
      "source": [
        "# Histograms"
      ]
    },
    {
      "cell_type": "code",
      "metadata": {
        "id": "yHNCIjLvYXwp",
        "colab": {
          "base_uri": "https://localhost:8080/"
        },
        "outputId": "08150d59-3eab-4554-b645-c5942708c9eb"
      },
      "source": [
        "\n",
        "\n",
        "# CHANGE COMPARISONS                                                            # left_histogram_comparison / right_histogram_comparison\n",
        "left_histogram_comparison = str(input(\"Left comparison: \"))                     \n",
        "right_histogram_comparison = str(input(\"Right comparison: \"))               \n",
        "print(\"\\n\" + left_histogram_comparison + \" vs. \" + right_histogram_comparison + \"\\n\")\n",
        "\n",
        "\n",
        "# CHANGE RANGE FOR HISTOGRAM\n",
        "more_histogram = float(input(\"Histogram data will be more than: \"))             # more_histogram < histogram data\n",
        "less_histogram = float(input(\"Histogram data will be less than: \"))             # less_histogram > histogram data\n",
        "print(\"\\nHistogram data: \" + str(more_histogram) + \" < x < \" + str(less_histogram)+ \"\\n\")\n",
        "\n",
        "# BINS\n",
        "number_of_bins = int(input(\"Bins: \"))                                           # number of histogram bins\n",
        "\n",
        "# RANDOM COLORS                                                                 # random color generator for cooler histogram colors\n",
        "r = random.random()\n",
        "b = random.random()\n",
        "g = random.random()\n",
        "color = (r, g, b)\n"
      ],
      "execution_count": null,
      "outputs": [
        {
          "output_type": "stream",
          "text": [
            "Left comparison: R6-S#22-HLG_WHOLE-C_normalized_reads\n",
            "Right comparison: R6-S#22-ALL_WHOLE-C_normalized_reads\n",
            "\n",
            "R6-S#22-HLG_WHOLE-C_normalized_reads vs. R6-S#22-ALL_WHOLE-C_normalized_reads\n",
            "\n",
            "Histogram data will be more than: 0\n",
            "Histogram data will be less than: 20\n",
            "\n",
            "Histogram data: 0.0 < x < 20.0\n",
            "\n",
            "Bins: 20\n"
          ],
          "name": "stdout"
        }
      ]
    },
    {
      "cell_type": "code",
      "metadata": {
        "colab": {
          "base_uri": "https://localhost:8080/",
          "height": 305
        },
        "id": "dBjNZBjoIRK5",
        "outputId": "31d30a41-0923-4e92-f4ed-3e091e03ca61"
      },
      "source": [
        "data = pd.read_csv('TAG Data.csv')                                              # read TAG Data\n",
        "\n",
        "data = data[['gene', left_histogram_comparison, right_histogram_comparison]]    # store only gene names, and the user inputted columns\n",
        "data_ratios = \"Ratios: \" + str(left_histogram_comparison) + \" / \" + str(right_histogram_comparison)\n",
        "# string, data_ratios store \"Ratios: left_histogram_comparison / right_histogram_comparison\"\n",
        "\n",
        "data[data_ratios] = data[left_histogram_comparison] / data[right_histogram_comparison]\n",
        "# new column in data, named data_ratio's string, store data's left_histogram_comparison divided by data's right_histogram_comparison\n",
        "\n",
        "filter_more = data[data_ratios] > more_histogram                                # filter with restriction on data's data_ratio column that all values must be greater than user inputted value\n",
        "filter_less = data[data_ratios] < less_histogram                                # filter with restriction on data's data_ratio column that all values must be less than user inputted value\n",
        "data.where(filter_more & filter_less, inplace = True)                           # apply the filters\n",
        "data = data.dropna()                                                            # drop 'NaN', ungraphable(?)\n",
        "\n",
        "histogram = data[data_ratios].hist(bins = number_of_bins, color = color, grid = True, xlabelsize = 12, ylabelsize = 12)\n",
        "#generate histogram, with user inputted number of bins and randomized color\n",
        "plt.xlabel(data_ratios, fontsize = 15)                                          # x-axis has label of data_ratio\n",
        "plt.ylabel (\"Frequency\", fontsize = 15)                                         # y-axis has label of \"Frequency\"\n",
        "\n",
        "print(histogram)"
      ],
      "execution_count": null,
      "outputs": [
        {
          "output_type": "stream",
          "text": [
            "AxesSubplot(0.125,0.125;0.775x0.755)\n"
          ],
          "name": "stdout"
        },
        {
          "output_type": "display_data",
          "data": {
            "image/png": "[encoded data removed]",
            "text/plain": [
              "<Figure size 432x288 with 1 Axes>"
            ]
          },
          "metadata": {
            "tags": [],
            "needs_background": "light"
          }
        }
      ]
    },
    {
      "cell_type": "markdown",
      "metadata": {
        "id": "rAT040f_CIPq"
      },
      "source": [
        "# Multi-Level\n"
      ]
    },
    {
      "cell_type": "code",
      "metadata": {
        "id": "-KA-HocgBzhA"
      },
      "source": [
        "# CHANGE LISTS\n",
        "bin_confidence = [3,4]\n",
        "bin_count = [3,4,5]\n",
        "\n",
        "# CHANGE COMPARISONS\n",
        "left_comparison = \"R5-S#18-HLG_WHOLE-A_normalized_reads\"                              # numerator\n",
        "right_comparison = \"R5-S#18-ALL_WHOLE-A_normalized_reads\"                       # denominator\n",
        "\n",
        "# EMPTY DICTIONARIES AND LISTS\n",
        "range_dict = {}                                                                 # empty dictionary to hold variable number of ranges for the variable number of bins\n",
        "bin_range_list = []                                                             # empty list to hold the range, to create a list of the bin ranges\n",
        "multi_level = pd.DataFrame()                                                    # empty dataframe to hold the hierarchical column headers"
      ],
      "execution_count": null,
      "outputs": []
    },
    {
      "cell_type": "code",
      "metadata": {
        "colab": {
          "base_uri": "https://localhost:8080/"
        },
        "id": "FTNsAjgC-y3T",
        "outputId": "1d55b737-2a6c-4c3d-fca4-10244827cd23"
      },
      "source": [
        "import numpy as np\n",
        "import rpy2.robjects.numpy2ri\n",
        "from rpy2.robjects.packages import importr\n",
        "rpy2.robjects.numpy2ri.activate()\n",
        "\n",
        "stats = importr('stats')\n",
        "\n",
        "tag = pd.read_csv('TAG Data.csv')                                               # read in 'TAG Data.csv'\n",
        "lib = pd.read_csv('large-lib_full_2016.10.25.csv')                              # read in 'large-lib_full_2016.10.25.csv' \n",
        "\n",
        "print(\"\\n\")\n",
        "number_of_bins = int(input(\"Number of bins: \"))                                 # user input for number of bins\n",
        "\n",
        "#-------------------------------------------------------------------------------------------------------------------------------------------------------------------------------\n",
        "\n",
        "# ↓ Benjamini-Hochberg Adjustment of p-values ↓\n",
        "# calls on a statisical adjustment from an R library:\n",
        "def FDR_adjust_pvalues(case, N=None, method='BH'):\n",
        "    \"\"\" Adjust a list of p-values for false discovery rate using R's stats::p.adjust function.\n",
        "\n",
        "    N and method are passed to R_stats.p_adjust:\n",
        "    - N is the number of comparisons (if left unspecified, defaults to len(pvalue_list), I think)\n",
        "    - method is the name of the adjustment method to use (inherited from R)\n",
        "\n",
        "    Note that this MUST be done after all the p-values are already collected, on the full list of p-values at once:\n",
        "    trying to do it on single p-values, even with adjusted N, will give different results!\n",
        "    \"\"\"\n",
        "    if not method in R_stats.p_adjust_methods:\n",
        "        raise ValueError(\"Unknown method %s - method must be one of (%s)!\"%(method, ', '.join(R_stats.p_adjust_methods)))\n",
        "    if N is None:   return R_stats.p_adjust(FloatVector(case), method=method)\n",
        "    else:           return R_stats.p_adjust(FloatVector(case), method=method, n=N)\n",
        "\n",
        "#-------------------------------------------------------------------------------------------------------------------------------------------------------------------------------\n",
        "\n",
        "# for 'TAG Data.csv'\n",
        "tag_df = tag [['gene', 'IB', left_comparison , right_comparison]]\n",
        "# keep only the listed columns\n",
        "tag_df = tag_df.loc[~((tag_df['gene'] == \"unknown_chrom\") | (tag_df['gene'] == \"gene_unknown\")),:]\n",
        "# drop rows that have 'unknown_chrom' or 'gene_unknown' as gene values\n",
        "tag_df = tag_df[~tag_df.gene.str.contains (\" & \")]                              # drop rows that have an ampersand (sometimes the gene names are 2, joined by an ampersand)\n",
        "tag_df.reset_index(drop = True)                                                 # reset index\n",
        "\n",
        "# for 'large-lib_full_2016.10.25.csv'\n",
        "lib_df = lib[['gene', 'IB', 'confidence_level' ]]\n",
        "# keep only the listed columns\n",
        "lib_df = lib_df.loc[~((lib_df['gene'] == \"unknown_chrom\") | (lib_df['gene'] == \"gene_unknown\")),:]\n",
        "# drop rows that have 'unknown_chrom' or 'gene_unknown' as gene values\n",
        "lib_df = lib_df[~lib_df.gene.str.contains (\" & \")]                              # drop rows that have an ampersand (sometimes the gene names are 2, joined by an ampersand)\n",
        "lib_df = lib_df.reset_index(drop = True)                                        # reset index\n",
        "\n",
        "#-------------------------------------------------------------------------------------------------------------------------------------------------------------------------------\n",
        "\n",
        "merged = tag_df.merge(lib_df, on = \"IB\")                                        # merge tag_df to lib_df based on their IB\n",
        "merged ['Ratios: HLG / ALL (Whole)'] = merged [left_comparison] / merged[right_comparison]\n",
        "# calculate HLG / ALL for ratio      \n",
        "merged = merged.replace([np.inf, -np.inf], 9999.999999)\n",
        "merged = merged.drop(columns = {'gene_y', left_comparison, right_comparison})\n",
        "# drop listed columns\n",
        "merged[\"Bin Type\"] = \"\"                                                         # empty column in merged, \"Bin Type\"\n",
        "\n",
        "print(\"\\n\")\n",
        "for i in range(number_of_bins):                                                 # beginning of for loop, for every i in the number of bins...\n",
        "  increased_i = i + 1                                                           # at every instance of i, increased_i is i + 1\n",
        "  print(\"Bin Number\", i + 1,\":\")                                                # print the bin number\n",
        "\n",
        "  if (i == number_of_bins - 1):                                                 # if i = number_of_bins - 1 (signifies the last bin)\n",
        "    bin_min = float(input(\"\\tMinimum: \"))                                       # user input for the minimum (assuming that the range is x > input)\n",
        "    print(\"x >\" , bin_min)                                                      # print \"x > input\"\n",
        "    bin_range = (\"x > \" + str(bin_min))                                         # convert bin_min from float to a string, store \"x > bin_min\" in bin_range\n",
        "    range_dict['bin_range_' + str(increased_i)] = bin_range                     # variable variable, 'bin_range_'i'' = bin_range\n",
        "    locals().update(range_dict)                                                 # store value in range dictionary\n",
        "    bin_range_list.append(bin_min)                                              # store the minimum value\n",
        "    break                                                                       \n",
        "    # end of for loop\n",
        "\n",
        "  if (i == 0):                                                                  # if i = 0, indicates first bin\n",
        "    bin_min = float(input(\"\\tMinimum: \"))                                       # user input for minimum\n",
        "    bin_max = float(input(\"\\tMaximum: \"))                                       # user input for maximum\n",
        "    print(bin_min , \"≤ x ≤\" , bin_max)                                          # print \"bin_min ≤ x ≤ bin_max\"\n",
        "    bin_range = (str(bin_min) + \" ≤ x ≤ \" + str(bin_max))                       # convert bin_min and bin_max from float to string, store \"bin_min , \"≤ x ≤\" , bin_max\" in bin_range\n",
        "    bin_range_list.append(bin_min)                                              # store the minimum value\n",
        "    #bin_range_list.append(bin_max)\n",
        "\n",
        "  else:                                                                         # else (if not the first or last bins)\n",
        "    bin_min = float(input(\"\\tMinimum: \"))                                       # user input for minimum\n",
        "    bin_max = float(input(\"\\tMaximum: \"))                                       # user input for maxmim\n",
        "\n",
        "    print(bin_min , \"< x ≤\" , bin_max)                                          # print \"bin_min < x ≤ bin_max\"\n",
        "    bin_range = (str(bin_min) + \" < x ≤ \" + str(bin_max))                       # convert bin_min and bin_max from float to string, store \"bin_min , \"< x ≤\" , bin_max\" in bin_range\n",
        "    bin_range_list.append(bin_min)                                              # store the minimum value\n",
        "    #bin_range_list.append(bin_max)\n",
        "  range_dict['bin_range_' + str(increased_i)] = bin_range                       # variable variable, 'bin_range_'i'' = bin_range\n",
        "  locals().update(range_dict)                                                   # store bin_range_'i' in range dictionary\n",
        "  # end of for loop    \n",
        "\n",
        "print('\\n')\n",
        "for key, value in range_dict.items():                                           # for values in range dictionary\n",
        "  print(key, \" : \" , value)                                                     # print print \"key, \" : \" , value\"\n",
        "\n",
        "#-------------------------------------------------------------------------------------------------------------------------------------------------------------------------------\n",
        "\n",
        "string_ranges = str(range_dict.values())                                        # convert range dictionary values to strings, store in string_ranges\n",
        "list_ranges = re.findall(\"\\d+\\.\\d+\", string_ranges)                             # find instances of decimals \n",
        "\n",
        "range_frame = pd.DataFrame(list_ranges, columns = [\"Value\"])                    # create dataframe from list_ranges, range_frame\n",
        "range_frame_even = range_frame[range_frame.index % 2 == 0].reset_index(drop = True)\n",
        "# range_frame_even = where range_frame's index is not odd (implies minimum value of the range)\n",
        "range_frame_odd = range_frame[range_frame.index % 2 == 1].reset_index(drop = True)\n",
        "# range_frame_odd = where range_frame's index is odd (implies maximum value of the range), for last bin, where there is no maximum, stores \"NaN\"\n",
        "\n",
        "range_frame = pd.concat([range_frame_even, range_frame_odd], axis = 1)          # concatenate range_frame_even and range_frame_odd side by side\n",
        "range_frame.columns = ['Min', 'Max']                                            # rename columns to \"Min\" and \"Max\"\n",
        "range_frame = range_frame.replace(np.nan, np.inf)                               # replace \"NaN\", by \"inf\" (infinity)\n",
        "\n",
        "range_frame['Min'] = range_frame['Min'].astype(float)                           # convert column values back to floats\n",
        "range_frame['Max'] = range_frame['Max'].astype(float)                           # convert column values back to floats\n",
        "\n",
        "def conditions(merged):                                                         # define function, \"conditions\" to be run on merged\n",
        "  for i in range(number_of_bins):                                               # beginning of for loop, for every i in the number of bins...                                               \n",
        "    if ((range_frame.iloc[i, 0] <= merged[\"Ratios: HLG / ALL (Whole)\"]) & (merged[\"Ratios: HLG / ALL (Whole)\"] <= range_frame.iloc[i, 1])):\n",
        "    # if merged[\"Ratios: HLG / ALL (Whole)\"] is >= value in range_frame.iloc[i,0] (the minimum) & merged[\"Ratios: HLG / ALL (Whole)\"] is <= range_frame.iloc[i, 1] (the maxmimum)\n",
        "      return i + 1                                                              # return i + 1 (if i = 1, return 2)\n",
        "    if ((range_frame.iloc[i, 0] <= merged[\"Ratios: HLG / ALL (Whole)\"]) & (range_frame.iloc[i,1] == np.inf)):\n",
        "    # if merged[\"Ratios: HLG / ALL (Whole)\"] is >= value in range_frame.iloc[i,0] (the minimum) & range_frame.iloc[i, 1] == inf (infinity), remember one instance of no maxmimum\n",
        "      return number_of_bins + 1                                                 # return number_of_bins + 1\n",
        "\n",
        "merged[\"Bin Type\"] = merged.apply(conditions, axis = 1)                         # on merged[\"Bin Type\"], apply conditions\n",
        "merged = merged.rename(columns = {'gene_x' : 'Gene', 'confidence_level' : \"Confidence Level\"}).reset_index(drop = True)\n",
        "\n",
        "gene_only_arr = merged[\"Gene\"].unique()\n",
        "gene_only_df = pd.DataFrame()\n",
        "gene_only_df[\"Gene\"] = pd.Series(gene_only_arr)\n",
        "gene_only_df = gene_only_df.sort_values(by = [\"Gene\"]).reset_index(drop = True)\n",
        "\n",
        "merged = merged.sort_values('Gene').replace([np.inf, -np.inf], np.nan).dropna()\n",
        "merged[\"Bin Type\"] = merged[\"Bin Type\"].astype(int)\n",
        "\n",
        "\n",
        "for count in bin_count:\n",
        "  for confidence in bin_confidence:\n",
        "    # rename columns\n",
        "    new_merged = merged[merged[\"Confidence Level\"] <= confidence]\n",
        "    # sort the values by the gene name, replace inf by Nan, drop rows that has Nan, reset the index\n",
        "    new_merged = new_merged.reset_index(drop = True)\n",
        "\n",
        "    merged_count_drop = pd.DataFrame(data = new_merged['Gene'], columns = ['Gene'])     # new dataframe, merged_count_drop, gets unique genes\n",
        "    merged_count_drop = new_merged['Gene'].value_counts().to_frame().reset_index().rename(columns = {'index' : 'Gene', 'Gene' : 'Count'})\n",
        "    # count the number of instances of each gene, stored in a new column, 'Count'\n",
        "    merged_count_drop = merged_count_drop[merged_count_drop['Count'] >= count].reset_index(drop = True)\n",
        "    # drop rows that has a count that is less than the inputted count restriction\n",
        "    merged_count_drop  = merged_count_drop.dropna().sort_values('Gene').reset_index(drop = True)\n",
        "    # drop rows that have Nan, sort dataframe by gene name, reset index\n",
        "\n",
        "    clean = new_merged.merge(merged_count_drop, on = \"Gene\")                            # merge merged and merged_count_drop based on gene name\n",
        "\n",
        "#-------------------------------------------------------------------------------------------------------------------------------------------------------------------------------\n",
        "\n",
        "    unique_gene = pd.DataFrame(clean['Gene'].unique())                              # dataframe to store the unique gene names\n",
        "    bin_type = clean[['Gene', \"Bin Type\"]]                                          # dataframe to store all genes + mutants + bin type\n",
        "\n",
        "    super_bins = []                                                                 # declare empty list\n",
        "    xl_p_val = []                                                                   # declare empty list\n",
        "\n",
        "    for i in range(len(unique_gene)):                                               # for i in the range of the number of rows in unique_genes\n",
        "      same_gene = bin_type.loc[bin_type.Gene == unique_gene.iloc[i,0]]              # find where the unique gene name dataframe at i equals the bin_type dataframe with all the mutants\n",
        "      bin_df = pd.DataFrame(same_gene[\"Bin Type\"].value_counts()).reindex(index = range(1,number_of_bins + 1)).transpose().fillna(0).astype(int)\n",
        "      # splice by gene names, count occurrence of every bin number, make columns from 1 - ... for the bin numbers, replace 'NaN' with 0, change from float to integer, switch x and y axis\n",
        "\n",
        "      bin_df = bin_df.set_index(same_gene['Gene'].unique())                         # make the unique gene names the index\n",
        "\n",
        "      super_bins.append(bin_df)                                                     # append data to each other, avoid long run times\n",
        "      # looks like: [Total in: 1 , Total in: 2 , Total in: 3 , Total in: 4 , etc.]\n",
        "    # end of for loop\n",
        "\n",
        "    super_bins = pd.concat(super_bins, axis = 0)                                    # concatenate the lists into a dataframe\n",
        "    super_bins = super_bins.transpose()                                             # switch x and y axis again\n",
        "    super_bins[\"Total\"] = super_bins.sum(axis = 1)                                  # add up total count in each bin to create the 'Total' \n",
        "    super_bins = super_bins.transpose()                                             # switch x and y axis again\n",
        "\n",
        "    total = super_bins.loc[super_bins.index == 'Total']                             # make total dataframe, and the index name to be 'Total'\n",
        "\n",
        "    for i in range(len(unique_gene)):                                               # for i in the range of the number of rows in unique_genes\n",
        "      same_gene = super_bins.loc[super_bins.index == unique_gene.iloc[i,0]]         # find where the unique gene name dataframe at i equals the bin_type dataframe with all the mutants\n",
        "      \n",
        "      bin_frames = [same_gene, total]                                               # create a contingency table, 'frame' with the the individual gene bin table and the total\n",
        "      bin_concat = pd.concat(bin_frames)                                            # concatenate bin_frames ↑\n",
        "      m = np.array(bin_concat)                                                      # change from dataframe to an array  \n",
        "      res = stats.fisher_test(m, workspace = 2e+06)                                 # do the r fisher test, and expand workspace since the default, 2+e05 was too small         \n",
        "      val = format(res[0][0])                                                       # re-format the results\n",
        "\n",
        "      xl_p_val.append(val)                                                          # append the results to empty list\n",
        "    # end of for loop\n",
        "\n",
        "    xl_p_val = pd.DataFrame(xl_p_val, columns = ['p-value'])                        # convert list to dataframe with the column, 'p-value'\n",
        "    xl_p_val = pd.concat([unique_gene, xl_p_val], axis = 1).rename(columns = {0 : 'Gene'}).set_index('Gene')\n",
        "    # concatenate the the unique gene names to the p-values, side by side, rename the column, set the index of the dataframe to be the gene name\n",
        "\n",
        "    super_bins = super_bins.reset_index().rename(columns = {'index' : 'Gene'})      # reset the index of super_bins and rename column\n",
        "    new_super_bins = gene_only_df.merge(super_bins, how='left', on = \"Gene\")\n",
        "    \n",
        "    xl_p_val = xl_p_val.reset_index()                                               # reset index of xl_p_val\n",
        "    xl_p_val[\"Adjusted p-value\"] = FDR_adjust_pvalues(xl_p_val[\"p-value\"])\n",
        "    \n",
        "    bin_and_p_val = pd.merge(new_super_bins, xl_p_val, how ='left', on = 'Gene').set_index('Gene').fillna(0)\n",
        "    bin_and_p_val_names = bin_and_p_val.columns.values.tolist()\n",
        "    del bin_and_p_val_names[-1]\n",
        "    del bin_and_p_val_names[-1]\n",
        "    bin_and_p_val[bin_and_p_val_names] = bin_and_p_val[bin_and_p_val_names].astype(int)\n",
        "    \n",
        "    # adjust bin_and_p_val[\"Adjusted p-value\"]\n",
        "#-------------------------------------------------------------------------------------------------------------------------------------------------------------------------------\n",
        "\n",
        "    bin_and_p_val['Bins'] = bin_and_p_val[bin_and_p_val.columns[0 : number_of_bins]].apply(lambda x: \", \".join(x.dropna().astype(str)), axis=1)\n",
        "    # combines the counts of the mutants inside each bin into one cell, separateed by commas, column name: 'Bins'\n",
        "    bin_and_p_val = bin_and_p_val[[\"Bins\", \"p-value\", \"Adjusted p-value\"]]      # reorder dataframe\n",
        "    bin_and_p_val = bin_and_p_val.replace({'Bins' : {\"0, 0, 0, 0\" : np.nan},\n",
        "                                           'p-value' : {0: np.nan},\n",
        "                                           \"Adjusted p-value\" : {0 : np.nan}})\n",
        "\n",
        "    total[\"Bins\"]= total[total.columns[0 : number_of_bins]].apply(lambda x: \", \".join(x.dropna().astype(str)), axis=1)\n",
        "    total = total[[\"Bins\"]].iloc[[0]]\n",
        "\n",
        "    frames = [total, bin_and_p_val]\n",
        "    bin_and_p_val = pd.concat(frames)\n",
        "    \n",
        "    count_df = pd.DataFrame(data = {count}, columns = {\"Read Count\"}).transpose()\n",
        "    # swtich the x and y axes for the count\n",
        "\n",
        "    confidence_df = pd.DataFrame(data = {confidence}, columns = {\"Confidence Level\"}).transpose()\n",
        "    # swtich the x and y axes for the confidence level\n",
        "\n",
        "    bin_range_df =  pd.DataFrame(bin_range_list, columns = {\"Bin Range\"}).transpose()\n",
        "    # swtich the x and y axes for the bin range\n",
        "    bin_range_df[\"Bin Range\"] = bin_range_df[bin_range_df.columns[0 : number_of_bins]].apply(lambda x: \", \".join(x.dropna().astype(str)), axis=1)\n",
        "    # combines the different range values into one cell\n",
        "    bin_range_df = bin_range_df[[\"Bin Range\"]].rename(columns = {\"Bin Range\": 0})\n",
        "    # rename new column to \"Bin Range\"\n",
        "\n",
        "    tuples = [(\"Read Count\", count_df.iloc[0,0], \"Bin Counts\"), (\"Confidence Level\", confidence_df.iloc[0,0], \"p-value\"), (\"Bin Range\", bin_range_df.iloc[0,0], \"Adjusted p-value\")]\n",
        "    # tuples = only the count number, confidence level, and the bin range\n",
        "    bin_and_p_val.columns = pd.MultiIndex.from_tuples(tuples)                   # use MultiIndex to have layered column headers\n",
        "\n",
        "    multi_level = pd.concat([multi_level, bin_and_p_val], axis = 1)             # in the multi_level dataframe, concatenate itself and bin_and_p_val\n",
        "\n",
        "# use date and time to ensure uniqueness of csv file names\n",
        "now = pd.DataFrame(dict(timestamp = pd.to_datetime([\"now\"]))).to_string()       # since using the timestamp has its own data type, convert to a string to generate unique csv names when downloaded\n",
        "now = now + \".csv\"                                                              # append \".csv\" to the time\n",
        "now = now.replace(\"                   timestamp\\n0 \", \"\", 1)                    # remove excess whitespace and the label\n",
        "\n",
        "multi_level.to_csv(now)                                                         # download multi_level as a csv with the timestamp as its name"
      ],
      "execution_count": null,
      "outputs": [
        {
          "output_type": "stream",
          "text": [
            "/usr/local/lib/python3.7/dist-packages/IPython/core/interactiveshell.py:2718: DtypeWarning: Columns (5) have mixed types.Specify dtype option on import or set low_memory=False.\n",
            "  interactivity=interactivity, compiler=compiler, result=result)\n"
          ],
          "name": "stderr"
        },
        {
          "output_type": "stream",
          "text": [
            "\n",
            "\n",
            "\n",
            "\n",
            "Bin Number 1 :\n",
            "0.0 ≤ x ≤ 3.0\n",
            "Bin Number 2 :\n",
            "3.0 < x ≤ 5.0\n",
            "Bin Number 3 :\n",
            "x > 5.0\n",
            "\n",
            "\n",
            "bin_range_1  :  0.0 ≤ x ≤ 3.0\n",
            "bin_range_2  :  3.0 < x ≤ 5.0\n",
            "bin_range_3  :  x > 5.0\n"
          ],
          "name": "stdout"
        }
      ]
    },
    {
      "cell_type": "code",
      "metadata": {
        "colab": {
          "base_uri": "https://localhost:8080/",
          "height": 138
        },
        "id": "wDEWDw9Wq48_",
        "outputId": "cab8011b-1f60-4643-d816-77e5881717b5"
      },
      "source": [
        "range_frame"
      ],
      "execution_count": null,
      "outputs": [
        {
          "output_type": "execute_result",
          "data": {
            "text/html": [
              "<div>\n",
              "<style scoped>\n",
              "    .dataframe tbody tr th:only-of-type {\n",
              "        vertical-align: middle;\n",
              "    }\n",
              "\n",
              "    .dataframe tbody tr th {\n",
              "        vertical-align: top;\n",
              "    }\n",
              "\n",
              "    .dataframe thead th {\n",
              "        text-align: right;\n",
              "    }\n",
              "</style>\n",
              "<table border=\"1\" class=\"dataframe\">\n",
              "  <thead>\n",
              "    <tr style=\"text-align: right;\">\n",
              "      <th></th>\n",
              "      <th>Min</th>\n",
              "      <th>Max</th>\n",
              "    </tr>\n",
              "  </thead>\n",
              "  <tbody>\n",
              "    <tr>\n",
              "      <th>0</th>\n",
              "      <td>0.0</td>\n",
              "      <td>0.2</td>\n",
              "    </tr>\n",
              "    <tr>\n",
              "      <th>1</th>\n",
              "      <td>0.2</td>\n",
              "      <td>3.9</td>\n",
              "    </tr>\n",
              "    <tr>\n",
              "      <th>2</th>\n",
              "      <td>3.9</td>\n",
              "      <td>inf</td>\n",
              "    </tr>\n",
              "  </tbody>\n",
              "</table>\n",
              "</div>"
            ],
            "text/plain": [
              "   Min  Max\n",
              "0  0.0  0.2\n",
              "1  0.2  3.9\n",
              "2  3.9  inf"
            ]
          },
          "metadata": {
            "tags": []
          },
          "execution_count": 18
        }
      ]
    }
  ]
}